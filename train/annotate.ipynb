{
 "cells": [
  {
   "cell_type": "code",
   "execution_count": 1,
   "metadata": {},
   "outputs": [],
   "source": [
    "from pypdf import PdfReader\n",
    "import re"
   ]
  },
  {
   "cell_type": "markdown",
   "metadata": {},
   "source": [
    "# Convert pdf file to text file"
   ]
  },
  {
   "cell_type": "markdown",
   "metadata": {},
   "source": [
    "* For annotation and predict easily"
   ]
  },
  {
   "cell_type": "code",
   "execution_count": null,
   "metadata": {},
   "outputs": [],
   "source": [
    "def convert_pdf_to_text(file_path: str) -> None:\n",
    "    \"\"\"\n",
    "    This function converts PDF file to string. \n",
    "    Because email and name must appear on the first page so, return information only on the first page. \n",
    "    \n",
    "    Args:\n",
    "        file_path: path of pdf file\n",
    "    \"\"\"\n",
    "    \n",
    "    reader = PdfReader(file_path)\n",
    "\n",
    "    page = reader.pages[0] # only on first page\n",
    "    text = page.extract_text()\n",
    "    \n",
    "    text = text.replace(\"\\n\",\" \")\n",
    "    text = text.replace(\"\\r\", \" \")\n",
    "    text = \" \".join(text.split(\" \"))\n",
    "    return text "
   ]
  },
  {
   "cell_type": "code",
   "execution_count": null,
   "metadata": {},
   "outputs": [],
   "source": [
    "import os \n",
    "\n",
    "pdf_files = os.listdir(\"resumes\")\n",
    "print(\"File counts:\", len(pdf_files))\n",
    "\n",
    "for file in pdf_files:\n",
    "    text = convert_pdf_to_text(f\"resumes/{file}\")\n",
    "    file_name = file.split(\".\")[0]\n",
    "    # save to text file for annotation\n",
    "    with open(f'text_resumes/{file_name}.txt','w+') as f:\n",
    "        f.writelines(text)"
   ]
  },
  {
   "cell_type": "markdown",
   "metadata": {},
   "source": [
    "# Load annotation file"
   ]
  },
  {
   "cell_type": "code",
   "execution_count": null,
   "metadata": {},
   "outputs": [],
   "source": [
    "import json\n",
    "\n",
    "with open(\"./train/data/annotation.json\") as f:\n",
    "    data = json.load(f)\n",
    "\n",
    "data"
   ]
  },
  {
   "cell_type": "markdown",
   "metadata": {},
   "source": [
    "# Create train data"
   ]
  },
  {
   "cell_type": "code",
   "execution_count": null,
   "metadata": {},
   "outputs": [],
   "source": [
    "training_data = {'classes' : ['Name', \"Email\"], 'annotations' : []}\n",
    "\n",
    "for ins in data:\n",
    "    temp_dict = {}\n",
    "    temp_dict['text'] = ins['text']\n",
    "    temp_dict['entities'] = []\n",
    "    for anno in ins['label']:\n",
    "        start = anno['start']\n",
    "        end = anno['end']\n",
    "        label = anno['labels'][0]\n",
    "        temp_dict['entities'].append((start, end, label))\n",
    "    training_data['annotations'].append(temp_dict)\n",
    "\n",
    "print(training_data['annotations'][0])"
   ]
  },
  {
   "cell_type": "code",
   "execution_count": null,
   "metadata": {},
   "outputs": [],
   "source": [
    "import json\n",
    "\n",
    "with open('./train/data/train_data.json','w+', encoding='utf-8') as f:\n",
    "    json.dump(training_data,f,ensure_ascii=False, indent=2)"
   ]
  },
  {
   "cell_type": "code",
   "execution_count": null,
   "metadata": {},
   "outputs": [],
   "source": []
  }
 ],
 "metadata": {
  "kernelspec": {
   "display_name": "ner-app",
   "language": "python",
   "name": "python3"
  },
  "language_info": {
   "codemirror_mode": {
    "name": "ipython",
    "version": 3
   },
   "file_extension": ".py",
   "mimetype": "text/x-python",
   "name": "python",
   "nbconvert_exporter": "python",
   "pygments_lexer": "ipython3",
   "version": "3.10.11"
  }
 },
 "nbformat": 4,
 "nbformat_minor": 2
}
