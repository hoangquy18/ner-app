{
 "cells": [
  {
   "cell_type": "markdown",
   "metadata": {},
   "source": [
    "# Train Spacy model"
   ]
  },
  {
   "cell_type": "code",
   "execution_count": 4,
   "metadata": {},
   "outputs": [
    {
     "name": "stdout",
     "output_type": "stream",
     "text": [
      "Collecting xx-ent-wiki-sm==3.7.0\n",
      "  Downloading https://github.com/explosion/spacy-models/releases/download/xx_ent_wiki_sm-3.7.0/xx_ent_wiki_sm-3.7.0-py3-none-any.whl (11.1 MB)\n",
      "     ---------------------------------------- 0.0/11.1 MB ? eta -:--:--\n",
      "     --------------------------------------- 0.0/11.1 MB 660.6 kB/s eta 0:00:17\n",
      "      --------------------------------------- 0.1/11.1 MB 1.7 MB/s eta 0:00:07\n",
      "     - -------------------------------------- 0.4/11.1 MB 2.9 MB/s eta 0:00:04\n",
      "     --- ------------------------------------ 0.9/11.1 MB 5.2 MB/s eta 0:00:02\n",
      "     ----- ---------------------------------- 1.6/11.1 MB 7.2 MB/s eta 0:00:02\n",
      "     ------ --------------------------------- 1.9/11.1 MB 8.2 MB/s eta 0:00:02\n",
      "     ------ --------------------------------- 1.9/11.1 MB 8.2 MB/s eta 0:00:02\n",
      "     ------- -------------------------------- 2.1/11.1 MB 6.0 MB/s eta 0:00:02\n",
      "     ------- -------------------------------- 2.1/11.1 MB 6.0 MB/s eta 0:00:02\n",
      "     -------- ------------------------------- 2.3/11.1 MB 5.3 MB/s eta 0:00:02\n",
      "     -------- ------------------------------- 2.4/11.1 MB 4.8 MB/s eta 0:00:02\n",
      "     -------- ------------------------------- 2.5/11.1 MB 4.6 MB/s eta 0:00:02\n",
      "     --------- ------------------------------ 2.5/11.1 MB 4.4 MB/s eta 0:00:02\n",
      "     --------- ------------------------------ 2.6/11.1 MB 4.1 MB/s eta 0:00:03\n",
      "     --------- ------------------------------ 2.6/11.1 MB 4.1 MB/s eta 0:00:03\n",
      "     --------- ------------------------------ 2.7/11.1 MB 3.8 MB/s eta 0:00:03\n",
      "     ---------- ----------------------------- 2.9/11.1 MB 3.7 MB/s eta 0:00:03\n",
      "     ---------- ----------------------------- 3.0/11.1 MB 3.7 MB/s eta 0:00:03\n",
      "     ----------- ---------------------------- 3.2/11.1 MB 3.6 MB/s eta 0:00:03\n",
      "     ----------- ---------------------------- 3.2/11.1 MB 3.6 MB/s eta 0:00:03\n",
      "     ----------- ---------------------------- 3.3/11.1 MB 3.5 MB/s eta 0:00:03\n",
      "     ------------ --------------------------- 3.3/11.1 MB 3.3 MB/s eta 0:00:03\n",
      "     ------------ --------------------------- 3.6/11.1 MB 3.4 MB/s eta 0:00:03\n",
      "     ------------- -------------------------- 3.6/11.1 MB 3.3 MB/s eta 0:00:03\n",
      "     ------------- -------------------------- 3.7/11.1 MB 3.2 MB/s eta 0:00:03\n",
      "     -------------- ------------------------- 4.0/11.1 MB 3.4 MB/s eta 0:00:03\n",
      "     -------------- ------------------------- 4.1/11.1 MB 3.3 MB/s eta 0:00:03\n",
      "     ----------------- ---------------------- 4.9/11.1 MB 3.8 MB/s eta 0:00:02\n",
      "     ------------------ --------------------- 5.2/11.1 MB 3.9 MB/s eta 0:00:02\n",
      "     -------------------- ------------------- 5.7/11.1 MB 4.2 MB/s eta 0:00:02\n",
      "     --------------------- ------------------ 6.0/11.1 MB 4.3 MB/s eta 0:00:02\n",
      "     ----------------------- ---------------- 6.4/11.1 MB 4.4 MB/s eta 0:00:02\n",
      "     ----------------------- ---------------- 6.4/11.1 MB 4.4 MB/s eta 0:00:02\n",
      "     ----------------------- ---------------- 6.4/11.1 MB 4.4 MB/s eta 0:00:02\n",
      "     ------------------------ --------------- 6.9/11.1 MB 4.3 MB/s eta 0:00:01\n",
      "     ------------------------- -------------- 7.1/11.1 MB 4.3 MB/s eta 0:00:01\n",
      "     -------------------------- ------------- 7.3/11.1 MB 4.3 MB/s eta 0:00:01\n",
      "     -------------------------- ------------- 7.4/11.1 MB 4.2 MB/s eta 0:00:01\n",
      "     --------------------------- ------------ 7.5/11.1 MB 4.2 MB/s eta 0:00:01\n",
      "     --------------------------- ------------ 7.6/11.1 MB 4.1 MB/s eta 0:00:01\n",
      "     --------------------------- ------------ 7.7/11.1 MB 4.1 MB/s eta 0:00:01\n",
      "     ---------------------------- ----------- 7.8/11.1 MB 4.0 MB/s eta 0:00:01\n",
      "     ---------------------------- ----------- 7.8/11.1 MB 4.0 MB/s eta 0:00:01\n",
      "     ---------------------------- ----------- 8.0/11.1 MB 3.9 MB/s eta 0:00:01\n",
      "     ---------------------------- ----------- 8.0/11.1 MB 3.9 MB/s eta 0:00:01\n",
      "     ----------------------------- ---------- 8.1/11.1 MB 3.8 MB/s eta 0:00:01\n",
      "     ----------------------------- ---------- 8.2/11.1 MB 3.8 MB/s eta 0:00:01\n",
      "     ----------------------------- ---------- 8.2/11.1 MB 3.7 MB/s eta 0:00:01\n",
      "     ----------------------------- ---------- 8.3/11.1 MB 3.7 MB/s eta 0:00:01\n",
      "     ------------------------------ --------- 8.4/11.1 MB 3.6 MB/s eta 0:00:01\n",
      "     ------------------------------ --------- 8.4/11.1 MB 3.6 MB/s eta 0:00:01\n",
      "     ------------------------------ --------- 8.5/11.1 MB 3.5 MB/s eta 0:00:01\n",
      "     ------------------------------ --------- 8.6/11.1 MB 3.5 MB/s eta 0:00:01\n",
      "     ------------------------------- -------- 8.6/11.1 MB 3.5 MB/s eta 0:00:01\n",
      "     ------------------------------- -------- 8.7/11.1 MB 3.4 MB/s eta 0:00:01\n",
      "     ------------------------------- -------- 8.8/11.1 MB 3.4 MB/s eta 0:00:01\n",
      "     ------------------------------- -------- 8.9/11.1 MB 3.4 MB/s eta 0:00:01\n",
      "     -------------------------------- ------- 8.9/11.1 MB 3.3 MB/s eta 0:00:01\n",
      "     -------------------------------- ------- 9.0/11.1 MB 3.3 MB/s eta 0:00:01\n",
      "     -------------------------------- ------- 9.1/11.1 MB 3.3 MB/s eta 0:00:01\n",
      "     --------------------------------- ------ 9.2/11.1 MB 3.2 MB/s eta 0:00:01\n",
      "     --------------------------------- ------ 9.3/11.1 MB 3.2 MB/s eta 0:00:01\n",
      "     --------------------------------- ------ 9.4/11.1 MB 3.2 MB/s eta 0:00:01\n",
      "     ---------------------------------- ----- 9.4/11.1 MB 3.2 MB/s eta 0:00:01\n",
      "     ---------------------------------- ----- 9.5/11.1 MB 3.2 MB/s eta 0:00:01\n",
      "     ---------------------------------- ----- 9.6/11.1 MB 3.1 MB/s eta 0:00:01\n",
      "     ---------------------------------- ----- 9.7/11.1 MB 3.1 MB/s eta 0:00:01\n",
      "     ----------------------------------- ---- 9.8/11.1 MB 3.1 MB/s eta 0:00:01\n",
      "     ----------------------------------- ---- 9.9/11.1 MB 3.1 MB/s eta 0:00:01\n",
      "     ----------------------------------- ---- 10.0/11.1 MB 3.1 MB/s eta 0:00:01\n",
      "     ------------------------------------ --- 10.1/11.1 MB 3.1 MB/s eta 0:00:01\n",
      "     ------------------------------------ --- 10.2/11.1 MB 3.1 MB/s eta 0:00:01\n",
      "     ------------------------------------ --- 10.3/11.1 MB 3.1 MB/s eta 0:00:01\n",
      "     ------------------------------------- -- 10.4/11.1 MB 3.1 MB/s eta 0:00:01\n",
      "     ------------------------------------- -- 10.5/11.1 MB 3.0 MB/s eta 0:00:01\n",
      "     -------------------------------------- - 10.6/11.1 MB 3.0 MB/s eta 0:00:01\n",
      "     -------------------------------------- - 10.7/11.1 MB 3.0 MB/s eta 0:00:01\n",
      "     -------------------------------------- - 10.8/11.1 MB 3.0 MB/s eta 0:00:01\n",
      "     ---------------------------------------  10.9/11.1 MB 2.9 MB/s eta 0:00:01\n",
      "     ---------------------------------------  10.9/11.1 MB 2.9 MB/s eta 0:00:01\n",
      "     ---------------------------------------  11.1/11.1 MB 2.9 MB/s eta 0:00:01\n",
      "     ---------------------------------------- 11.1/11.1 MB 2.8 MB/s eta 0:00:00\n",
      "Requirement already satisfied: spacy<3.8.0,>=3.7.0 in c:\\users\\quypr\\onedrive\\desktop\\golden\\ner-app\\lib\\site-packages (from xx-ent-wiki-sm==3.7.0) (3.7.4)\n",
      "Requirement already satisfied: preshed<3.1.0,>=3.0.2 in c:\\users\\quypr\\onedrive\\desktop\\golden\\ner-app\\lib\\site-packages (from spacy<3.8.0,>=3.7.0->xx-ent-wiki-sm==3.7.0) (3.0.9)\n",
      "Requirement already satisfied: thinc<8.3.0,>=8.2.2 in c:\\users\\quypr\\onedrive\\desktop\\golden\\ner-app\\lib\\site-packages (from spacy<3.8.0,>=3.7.0->xx-ent-wiki-sm==3.7.0) (8.2.5)\n",
      "Requirement already satisfied: srsly<3.0.0,>=2.4.3 in c:\\users\\quypr\\onedrive\\desktop\\golden\\ner-app\\lib\\site-packages (from spacy<3.8.0,>=3.7.0->xx-ent-wiki-sm==3.7.0) (2.4.8)\n",
      "Requirement already satisfied: murmurhash<1.1.0,>=0.28.0 in c:\\users\\quypr\\onedrive\\desktop\\golden\\ner-app\\lib\\site-packages (from spacy<3.8.0,>=3.7.0->xx-ent-wiki-sm==3.7.0) (1.0.10)\n",
      "Requirement already satisfied: typer<0.10.0,>=0.3.0 in c:\\users\\quypr\\onedrive\\desktop\\golden\\ner-app\\lib\\site-packages (from spacy<3.8.0,>=3.7.0->xx-ent-wiki-sm==3.7.0) (0.9.4)\n",
      "Requirement already satisfied: requests<3.0.0,>=2.13.0 in c:\\users\\quypr\\onedrive\\desktop\\golden\\ner-app\\lib\\site-packages (from spacy<3.8.0,>=3.7.0->xx-ent-wiki-sm==3.7.0) (2.32.3)\n",
      "Requirement already satisfied: cymem<2.1.0,>=2.0.2 in c:\\users\\quypr\\onedrive\\desktop\\golden\\ner-app\\lib\\site-packages (from spacy<3.8.0,>=3.7.0->xx-ent-wiki-sm==3.7.0) (2.0.8)\n",
      "Requirement already satisfied: pydantic!=1.8,!=1.8.1,<3.0.0,>=1.7.4 in c:\\users\\quypr\\onedrive\\desktop\\golden\\ner-app\\lib\\site-packages (from spacy<3.8.0,>=3.7.0->xx-ent-wiki-sm==3.7.0) (2.10.1)\n",
      "Requirement already satisfied: jinja2 in c:\\users\\quypr\\onedrive\\desktop\\golden\\ner-app\\lib\\site-packages (from spacy<3.8.0,>=3.7.0->xx-ent-wiki-sm==3.7.0) (3.1.4)\n",
      "Requirement already satisfied: spacy-legacy<3.1.0,>=3.0.11 in c:\\users\\quypr\\onedrive\\desktop\\golden\\ner-app\\lib\\site-packages (from spacy<3.8.0,>=3.7.0->xx-ent-wiki-sm==3.7.0) (3.0.12)\n",
      "Requirement already satisfied: catalogue<2.1.0,>=2.0.6 in c:\\users\\quypr\\onedrive\\desktop\\golden\\ner-app\\lib\\site-packages (from spacy<3.8.0,>=3.7.0->xx-ent-wiki-sm==3.7.0) (2.0.10)\n",
      "Requirement already satisfied: langcodes<4.0.0,>=3.2.0 in c:\\users\\quypr\\onedrive\\desktop\\golden\\ner-app\\lib\\site-packages (from spacy<3.8.0,>=3.7.0->xx-ent-wiki-sm==3.7.0) (3.5.0)\n",
      "Requirement already satisfied: spacy-loggers<2.0.0,>=1.0.0 in c:\\users\\quypr\\onedrive\\desktop\\golden\\ner-app\\lib\\site-packages (from spacy<3.8.0,>=3.7.0->xx-ent-wiki-sm==3.7.0) (1.0.5)\n",
      "Requirement already satisfied: tqdm<5.0.0,>=4.38.0 in c:\\users\\quypr\\onedrive\\desktop\\golden\\ner-app\\lib\\site-packages (from spacy<3.8.0,>=3.7.0->xx-ent-wiki-sm==3.7.0) (4.67.0)\n",
      "Requirement already satisfied: numpy>=1.19.0 in c:\\users\\quypr\\onedrive\\desktop\\golden\\ner-app\\lib\\site-packages (from spacy<3.8.0,>=3.7.0->xx-ent-wiki-sm==3.7.0) (1.26.4)\n",
      "Requirement already satisfied: wasabi<1.2.0,>=0.9.1 in c:\\users\\quypr\\onedrive\\desktop\\golden\\ner-app\\lib\\site-packages (from spacy<3.8.0,>=3.7.0->xx-ent-wiki-sm==3.7.0) (1.1.3)\n",
      "Requirement already satisfied: setuptools in c:\\users\\quypr\\onedrive\\desktop\\golden\\ner-app\\lib\\site-packages (from spacy<3.8.0,>=3.7.0->xx-ent-wiki-sm==3.7.0) (65.5.0)\n",
      "Requirement already satisfied: weasel<0.4.0,>=0.1.0 in c:\\users\\quypr\\onedrive\\desktop\\golden\\ner-app\\lib\\site-packages (from spacy<3.8.0,>=3.7.0->xx-ent-wiki-sm==3.7.0) (0.3.4)\n",
      "Requirement already satisfied: packaging>=20.0 in c:\\users\\quypr\\onedrive\\desktop\\golden\\ner-app\\lib\\site-packages (from spacy<3.8.0,>=3.7.0->xx-ent-wiki-sm==3.7.0) (24.2)\n",
      "Requirement already satisfied: smart-open<7.0.0,>=5.2.1 in c:\\users\\quypr\\onedrive\\desktop\\golden\\ner-app\\lib\\site-packages (from spacy<3.8.0,>=3.7.0->xx-ent-wiki-sm==3.7.0) (6.4.0)\n",
      "Requirement already satisfied: language-data>=1.2 in c:\\users\\quypr\\onedrive\\desktop\\golden\\ner-app\\lib\\site-packages (from langcodes<4.0.0,>=3.2.0->spacy<3.8.0,>=3.7.0->xx-ent-wiki-sm==3.7.0) (1.3.0)\n",
      "Requirement already satisfied: pydantic-core==2.27.1 in c:\\users\\quypr\\onedrive\\desktop\\golden\\ner-app\\lib\\site-packages (from pydantic!=1.8,!=1.8.1,<3.0.0,>=1.7.4->spacy<3.8.0,>=3.7.0->xx-ent-wiki-sm==3.7.0) (2.27.1)\n",
      "Requirement already satisfied: annotated-types>=0.6.0 in c:\\users\\quypr\\onedrive\\desktop\\golden\\ner-app\\lib\\site-packages (from pydantic!=1.8,!=1.8.1,<3.0.0,>=1.7.4->spacy<3.8.0,>=3.7.0->xx-ent-wiki-sm==3.7.0) (0.7.0)\n",
      "Requirement already satisfied: typing-extensions>=4.12.2 in c:\\users\\quypr\\onedrive\\desktop\\golden\\ner-app\\lib\\site-packages (from pydantic!=1.8,!=1.8.1,<3.0.0,>=1.7.4->spacy<3.8.0,>=3.7.0->xx-ent-wiki-sm==3.7.0) (4.12.2)\n",
      "Requirement already satisfied: urllib3<3,>=1.21.1 in c:\\users\\quypr\\onedrive\\desktop\\golden\\ner-app\\lib\\site-packages (from requests<3.0.0,>=2.13.0->spacy<3.8.0,>=3.7.0->xx-ent-wiki-sm==3.7.0) (2.2.3)\n",
      "Requirement already satisfied: certifi>=2017.4.17 in c:\\users\\quypr\\onedrive\\desktop\\golden\\ner-app\\lib\\site-packages (from requests<3.0.0,>=2.13.0->spacy<3.8.0,>=3.7.0->xx-ent-wiki-sm==3.7.0) (2024.8.30)\n",
      "Requirement already satisfied: idna<4,>=2.5 in c:\\users\\quypr\\onedrive\\desktop\\golden\\ner-app\\lib\\site-packages (from requests<3.0.0,>=2.13.0->spacy<3.8.0,>=3.7.0->xx-ent-wiki-sm==3.7.0) (3.10)\n",
      "Requirement already satisfied: charset-normalizer<4,>=2 in c:\\users\\quypr\\onedrive\\desktop\\golden\\ner-app\\lib\\site-packages (from requests<3.0.0,>=2.13.0->spacy<3.8.0,>=3.7.0->xx-ent-wiki-sm==3.7.0) (3.4.0)\n",
      "Requirement already satisfied: blis<0.8.0,>=0.7.8 in c:\\users\\quypr\\onedrive\\desktop\\golden\\ner-app\\lib\\site-packages (from thinc<8.3.0,>=8.2.2->spacy<3.8.0,>=3.7.0->xx-ent-wiki-sm==3.7.0) (0.7.11)\n",
      "Requirement already satisfied: confection<1.0.0,>=0.0.1 in c:\\users\\quypr\\onedrive\\desktop\\golden\\ner-app\\lib\\site-packages (from thinc<8.3.0,>=8.2.2->spacy<3.8.0,>=3.7.0->xx-ent-wiki-sm==3.7.0) (0.1.5)\n",
      "Requirement already satisfied: colorama in c:\\users\\quypr\\onedrive\\desktop\\golden\\ner-app\\lib\\site-packages (from tqdm<5.0.0,>=4.38.0->spacy<3.8.0,>=3.7.0->xx-ent-wiki-sm==3.7.0) (0.4.6)\n",
      "Requirement already satisfied: click<9.0.0,>=7.1.1 in c:\\users\\quypr\\onedrive\\desktop\\golden\\ner-app\\lib\\site-packages (from typer<0.10.0,>=0.3.0->spacy<3.8.0,>=3.7.0->xx-ent-wiki-sm==3.7.0) (8.1.7)\n",
      "Requirement already satisfied: cloudpathlib<0.17.0,>=0.7.0 in c:\\users\\quypr\\onedrive\\desktop\\golden\\ner-app\\lib\\site-packages (from weasel<0.4.0,>=0.1.0->spacy<3.8.0,>=3.7.0->xx-ent-wiki-sm==3.7.0) (0.16.0)\n",
      "Requirement already satisfied: MarkupSafe>=2.0 in c:\\users\\quypr\\onedrive\\desktop\\golden\\ner-app\\lib\\site-packages (from jinja2->spacy<3.8.0,>=3.7.0->xx-ent-wiki-sm==3.7.0) (3.0.2)\n",
      "Requirement already satisfied: marisa-trie>=1.1.0 in c:\\users\\quypr\\onedrive\\desktop\\golden\\ner-app\\lib\\site-packages (from language-data>=1.2->langcodes<4.0.0,>=3.2.0->spacy<3.8.0,>=3.7.0->xx-ent-wiki-sm==3.7.0) (1.2.1)\n",
      "Installing collected packages: xx-ent-wiki-sm\n",
      "Successfully installed xx-ent-wiki-sm-3.7.0\n",
      "\u001b[38;5;2m✔ Download and installation successful\u001b[0m\n",
      "You can now load the package via spacy.load('xx_ent_wiki_sm')\n"
     ]
    },
    {
     "name": "stderr",
     "output_type": "stream",
     "text": [
      "\n",
      "[notice] A new release of pip is available: 23.0.1 -> 24.3.1\n",
      "[notice] To update, run: python.exe -m pip install --upgrade pip\n"
     ]
    }
   ],
   "source": [
    "!python -m spacy download xx_ent_wiki_sm"
   ]
  },
  {
   "cell_type": "code",
   "execution_count": 6,
   "metadata": {},
   "outputs": [],
   "source": [
    "import spacy\n",
    "from spacy.tokens import DocBin\n",
    "from tqdm import tqdm\n",
    "\n",
    "nlp = spacy.load(\"xx_ent_wiki_sm\") \n",
    "doc_bin = DocBin() # create a DocBin object\n"
   ]
  },
  {
   "cell_type": "markdown",
   "metadata": {},
   "source": [
    "## Prepare data"
   ]
  },
  {
   "cell_type": "code",
   "execution_count": null,
   "metadata": {},
   "outputs": [],
   "source": [
    "import json\n",
    "\n",
    "with open(\"./train/data/train_data.json\") as f:\n",
    "    training_data = json.load(f)"
   ]
  },
  {
   "cell_type": "code",
   "execution_count": 45,
   "metadata": {},
   "outputs": [
    {
     "name": "stderr",
     "output_type": "stream",
     "text": [
      " 77%|███████▋  | 142/185 [00:00<00:00, 242.66it/s]"
     ]
    },
    {
     "name": "stdout",
     "output_type": "stream",
     "text": [
      "Skipping entity\n",
      "Skipping entity\n",
      "Skipping entity\n",
      "Skipping entity\n",
      "Skipping entity\n"
     ]
    },
    {
     "name": "stderr",
     "output_type": "stream",
     "text": [
      "100%|██████████| 185/185 [00:00<00:00, 246.63it/s]"
     ]
    },
    {
     "name": "stdout",
     "output_type": "stream",
     "text": [
      "Skipping entity\n",
      "Skipping entity\n"
     ]
    },
    {
     "name": "stderr",
     "output_type": "stream",
     "text": [
      "\n"
     ]
    }
   ],
   "source": [
    "for training_example in tqdm(training_data['annotations']): \n",
    "    text = training_example['text']\n",
    "    labels = training_example['entities']\n",
    "    doc = nlp.make_doc(text) \n",
    "    ents = []\n",
    "    for start, end, label in labels:\n",
    "        span = doc.char_span(start, end, label=label, alignment_mode=\"contract\")\n",
    "        if span is None:\n",
    "            print(\"Skipping entity\")\n",
    "        else:\n",
    "            ents.append(span)\n",
    "\n",
    "    doc.ents = ents \n",
    "    doc_bin.add(doc)\n",
    "doc_bin.to_disk(\"training_data.spacy\") # save the docbin object"
   ]
  },
  {
   "cell_type": "markdown",
   "metadata": {},
   "source": [
    "## Training"
   ]
  },
  {
   "cell_type": "code",
   "execution_count": 6,
   "metadata": {},
   "outputs": [
    {
     "name": "stdout",
     "output_type": "stream",
     "text": [
      "✔ Auto-filled config with all values\n",
      "✔ Saved config\n",
      "config.cfg\n",
      "You can now add your data and train your pipeline:\n",
      "python -m spacy train config.cfg --paths.train ./train.spacy --paths.dev ./dev.spacy\n"
     ]
    }
   ],
   "source": [
    "!python -m spacy init fill-config base_config.cfg config.cfg"
   ]
  },
  {
   "cell_type": "code",
   "execution_count": null,
   "metadata": {},
   "outputs": [
    {
     "name": "stdout",
     "output_type": "stream",
     "text": [
      "^C\n"
     ]
    },
    {
     "name": "stdout",
     "output_type": "stream",
     "text": [
      "ℹ Saving to output directory: output\n",
      "ℹ Using CPU\n",
      "\u001b[1m\n",
      "=========================== Initializing pipeline ===========================\u001b[0m\n",
      "✔ Initialized pipeline\n",
      "\u001b[1m\n",
      "============================= Training pipeline =============================\u001b[0m\n",
      "ℹ Pipeline: ['tok2vec', 'ner']\n",
      "ℹ Initial learn rate: 0.001\n",
      "E    #       LOSS TOK2VEC  LOSS NER  ENTS_F  ENTS_P  ENTS_R  SCORE \n",
      "---  ------  ------------  --------  ------  ------  ------  ------\n",
      "  0       0          0.00    122.30    0.08    0.04    0.57    0.00\n",
      "  1     200       2139.51   4107.62   75.64   86.45   67.24    0.76\n",
      "  2     400         55.94    241.61   86.75   88.69   84.90    0.87\n",
      "  3     600       1147.14    233.04   89.74   86.32   93.45    0.90\n",
      "  4     800         69.92     90.63   91.25   91.91   90.60    0.91\n",
      "  5    1000      40366.42    383.94   94.38   93.07   95.73    0.94\n",
      "  6    1200         65.99     55.62   98.12   99.42   96.87    0.98\n",
      "  7    1400         81.13     42.94   97.17   96.62   97.72    0.97\n",
      "  8    1600        236.94     61.39   97.88   97.19   98.58    0.98\n",
      "  9    1800         59.46     21.78   98.15   98.01   98.29    0.98\n",
      " 10    2000         68.29     30.26   98.15   98.01   98.29    0.98\n",
      " 11    2200         66.72     29.34   99.15   99.15   99.15    0.99\n",
      " 12    2400       1667.04     35.76   98.28   98.85   97.72    0.98\n",
      " 14    2600        160.87     40.74   97.88   97.19   98.58    0.98\n",
      " 15    2800         76.62     30.42   98.86   98.86   98.86    0.99\n",
      " 16    3000         43.91     16.69   98.43   98.57   98.29    0.98\n",
      " 17    3200         76.47     26.55   98.31   96.95   99.72    0.98\n",
      " 18    3400        135.48     29.93   98.41   99.71   97.15    0.98\n",
      " 19    3600        149.67     38.81   98.72   98.86   98.58    0.99\n",
      " 20    3800         89.78     24.35   98.16   97.47   98.86    0.98\n",
      "✔ Saved pipeline to output directory\n",
      "output\\model-last\n",
      "ℹ Saving to output directory: output\n",
      "ℹ Using CPU\n",
      "\u001b[1m\n",
      "=========================== Initializing pipeline ===========================\u001b[0m\n",
      "✔ Initialized pipeline\n",
      "\u001b[1m\n",
      "============================= Training pipeline =============================\u001b[0m\n",
      "ℹ Pipeline: ['tok2vec', 'ner']\n",
      "ℹ Initial learn rate: 0.001\n",
      "E    #       LOSS TOK2VEC  LOSS NER  ENTS_F  ENTS_P  ENTS_R  SCORE \n",
      "---  ------  ------------  --------  ------  ------  ------  ------\n",
      "  0       0          0.00    122.30    0.08    0.04    0.57    0.00\n",
      "  1     200       2139.51   4107.62   75.64   86.45   67.24    0.76\n",
      "  2     400         55.94    241.61   86.75   88.69   84.90    0.87\n",
      "  3     600       1147.14    233.04   89.74   86.32   93.45    0.90\n",
      "  4     800         69.92     90.63   91.25   91.91   90.60    0.91\n",
      "  5    1000      40366.42    383.94   94.38   93.07   95.73    0.94\n",
      "  6    1200         65.99     55.62   98.12   99.42   96.87    0.98\n",
      "  7    1400         81.13     42.94   97.17   96.62   97.72    0.97\n",
      "  8    1600        236.94     61.39   97.88   97.19   98.58    0.98\n",
      "  9    1800         59.46     21.78   98.15   98.01   98.29    0.98\n",
      " 10    2000         68.29     30.26   98.15   98.01   98.29    0.98\n",
      " 11    2200         66.72     29.34   99.15   99.15   99.15    0.99\n",
      " 12    2400       1667.04     35.76   98.28   98.85   97.72    0.98\n",
      " 14    2600        160.87     40.74   97.88   97.19   98.58    0.98\n",
      " 15    2800         76.62     30.42   98.86   98.86   98.86    0.99\n",
      " 16    3000         43.91     16.69   98.43   98.57   98.29    0.98\n",
      " 17    3200         76.47     26.55   98.31   96.95   99.72    0.98\n",
      " 18    3400        135.48     29.93   98.41   99.71   97.15    0.98\n",
      " 19    3600        149.67     38.81   98.72   98.86   98.58    0.99\n",
      " 20    3800         89.78     24.35   98.16   97.47   98.86    0.98\n",
      "✔ Saved pipeline to output directory\n",
      "output\\model-last\n"
     ]
    }
   ],
   "source": [
    "!python -m spacy train config.cfg --output ./output --paths.train ./train/data/training_data.spacy --paths.dev ./train/data/training_data.spacy "
   ]
  },
  {
   "cell_type": "markdown",
   "metadata": {},
   "source": [
    "## Predict"
   ]
  },
  {
   "cell_type": "code",
   "execution_count": 10,
   "metadata": {},
   "outputs": [],
   "source": [
    "from pypdf import PdfReader\n",
    "\n",
    "def convert_pdf_to_text(file_path: str) -> None:\n",
    "    \"\"\"\n",
    "    This function converts PDF file to string. \n",
    "    Because email and name must appear on the first page so, return information only on the first page. \n",
    "    \n",
    "    Args:\n",
    "        file_path: path of pdf file\n",
    "    \"\"\"\n",
    "    \n",
    "    reader = PdfReader(file_path)\n",
    "\n",
    "    page = reader.pages[0] # only on first page\n",
    "    text = page.extract_text()\n",
    "    \n",
    "    text = text.replace(\"\\n\",\" \")\n",
    "    text = text.replace(\"\\r\", \" \")\n",
    "    text = \" \".join(text.split(\" \"))\n",
    "    return text "
   ]
  },
  {
   "cell_type": "code",
   "execution_count": 29,
   "metadata": {},
   "outputs": [],
   "source": [
    "my_ner_model = spacy.load(\"output/model-best\") #load the best model"
   ]
  },
  {
   "cell_type": "code",
   "execution_count": 30,
   "metadata": {},
   "outputs": [
    {
     "data": {
      "text/plain": [
       "'  Page 1 of 13   CURRICULUM VITAE     Personal detail   Name  Nguyen Thanh Xuan   Nationality  Vietnamese   Date of Birth  November 20, 1985   Sex Male   Marital status  Married   Phone  84-946858197   Home address  72/486I Phan Huy Ich Street , Go Vap District ,  Hochiminh City , Viet  Nam   Email  xuanusm@gmail.com     Employment history   Since 11.2014  Lazada Tech hub ( http://www.lazada.com ,  http://techhub.lazada.com/  )  Senio r Android Developer     Participated in developing android app product.   Since 06.2014  VNG  (http://www.vng.com.vn/ )  Supervisor   Participated in Mobile publishing department,  software development part.   Since 06.2011  Forix  (http://www.forixusa.com  )  Technical Android leader     Participated in developing mobile application,  especially on Android platform.   09.2010  – 05.2011  Codix ( http://www.codix.eu )  Senior Software developer   Worked in Vietnamese office of Codix.   Participated in developing iMX,  a unique software  solution providing businesses with an event -driven  system for the management of activities such  as Factoring , Commercial , Trade and Corporat e  Finance , Debt Collection and Legal , Accounts  Receivables , Credit , Leasing , Credit  Insurance , etc  04.2010 – 09.2010  AGILEMOBILE VietNam    (www.agilemobile.com  )   Team Lead   Participated in developing Agile Messe nger , a  mobile IM application on the market for android,  featuring desktop -like instant messaging and always - on connectivity.  '"
      ]
     },
     "execution_count": 30,
     "metadata": {},
     "output_type": "execute_result"
    }
   ],
   "source": [
    "text = convert_pdf_to_text(\"resumes/android_01.pdf\")\n",
    "text"
   ]
  },
  {
   "cell_type": "code",
   "execution_count": 31,
   "metadata": {},
   "outputs": [
    {
     "data": {
      "text/html": [
       "<span class=\"tex2jax_ignore\"><div class=\"entities\" style=\"line-height: 2.5; direction: ltr\">  Page 1 of 13   CURRICULUM VITAE     Personal detail   Name  \n",
       "<mark class=\"entity\" style=\"background: #ddd; padding: 0.45em 0.6em; margin: 0 0.25em; line-height: 1; border-radius: 0.35em;\">\n",
       "    Nguyen Thanh Xuan\n",
       "    <span style=\"font-size: 0.8em; font-weight: bold; line-height: 1; border-radius: 0.35em; vertical-align: middle; margin-left: 0.5rem\">Name</span>\n",
       "</mark>\n",
       "   Nationality  Vietnamese   Date of Birth  November 20, 1985   Sex Male   Marital status  Married   Phone  84-946858197   Home address  72/486I Phan Huy Ich Street , Go Vap District ,  Hochiminh City , Viet  Nam   Email  \n",
       "<mark class=\"entity\" style=\"background: #ddd; padding: 0.45em 0.6em; margin: 0 0.25em; line-height: 1; border-radius: 0.35em;\">\n",
       "    xuanusm@gmail.com\n",
       "    <span style=\"font-size: 0.8em; font-weight: bold; line-height: 1; border-radius: 0.35em; vertical-align: middle; margin-left: 0.5rem\">Email</span>\n",
       "</mark>\n",
       "     Employment history   Since 11.2014  Lazada Tech hub ( http://www.lazada.com ,  http://techhub.lazada.com/  )  Senio r Android Developer     Participated in developing android app product.   Since 06.2014  VNG  (http://www.vng.com.vn/ )  Supervisor   Participated in Mobile publishing department,  software development part.   Since 06.2011  Forix  (http://www.forixusa.com  )  Technical Android leader     Participated in developing mobile application,  especially on Android platform.   09.2010  – 05.2011  Codix ( http://www.codix.eu )  Senior Software developer   Worked in Vietnamese office of Codix.   Participated in developing iMX,  a unique software  solution providing businesses with an event -driven  system for the management of activities such  as Factoring , Commercial , Trade and Corporat e  Finance , Debt Collection and Legal , Accounts  Receivables , Credit , Leasing , Credit  Insurance , etc  04.2010 – 09.2010  AGILEMOBILE VietNam    (www.agilemobile.com  )   Team Lead   Participated in developing Agile Messe nger , a  mobile IM application on the market for android,  featuring desktop -like instant messaging and always - on connectivity.  </div></span>"
      ],
      "text/plain": [
       "<IPython.core.display.HTML object>"
      ]
     },
     "metadata": {},
     "output_type": "display_data"
    }
   ],
   "source": [
    "doc = my_ner_model(text) # input sample text\n",
    "\n",
    "spacy.displacy.render(doc, style=\"ent\", jupyter=True) # display in Jupyter"
   ]
  },
  {
   "cell_type": "code",
   "execution_count": 32,
   "metadata": {},
   "outputs": [
    {
     "data": {
      "text/plain": [
       "[{'start': 62, 'end': 79, 'label': 'Name'},\n",
       " {'start': 301, 'end': 318, 'label': 'Email'}]"
      ]
     },
     "execution_count": 32,
     "metadata": {},
     "output_type": "execute_result"
    }
   ],
   "source": [
    "doc.to_json()['ents']"
   ]
  },
  {
   "cell_type": "code",
   "execution_count": null,
   "metadata": {},
   "outputs": [],
   "source": []
  }
 ],
 "metadata": {
  "kernelspec": {
   "display_name": "ner-app",
   "language": "python",
   "name": "python3"
  },
  "language_info": {
   "codemirror_mode": {
    "name": "ipython",
    "version": 3
   },
   "file_extension": ".py",
   "mimetype": "text/x-python",
   "name": "python",
   "nbconvert_exporter": "python",
   "pygments_lexer": "ipython3",
   "version": "3.10.11"
  }
 },
 "nbformat": 4,
 "nbformat_minor": 2
}
